{
  "nbformat": 4,
  "nbformat_minor": 0,
  "metadata": {
    "colab": {
      "name": "Untitled0.ipynb",
      "provenance": [],
      "authorship_tag": "ABX9TyOwOTGpol/KwVrD2RViB8FV",
      "include_colab_link": true
    },
    "kernelspec": {
      "name": "python3",
      "display_name": "Python 3"
    },
    "language_info": {
      "name": "python"
    }
  },
  "cells": [
    {
      "cell_type": "markdown",
      "metadata": {
        "id": "view-in-github",
        "colab_type": "text"
      },
      "source": [
        "<a href=\"https://colab.research.google.com/github/yu1git/Git/blob/master/Untitled0.ipynb\" target=\"_parent\"><img src=\"https://colab.research.google.com/assets/colab-badge.svg\" alt=\"Open In Colab\"/></a>"
      ]
    },
    {
      "cell_type": "code",
      "metadata": {
        "id": "MaapD7fPdvOK"
      },
      "source": [
        "# coding: utf-8\n",
        "# 体力\n",
        "H = int(input())\n",
        "# 攻撃力は互いの 1 ~ 2 回前の攻撃力に依存。\n",
        "# n-2, n-1, n 回目の攻撃力を配列で保持して攻撃力の遷移を記録\n",
        "\n",
        "# ダメージの累計(すでに2ターン経過済み)\n",
        "# 攻撃される回数(すでに2ターン経過済み)\n",
        "# 何回目の攻撃で体力が0になるか"
      ],
      "execution_count": null,
      "outputs": []
    }
  ]
}