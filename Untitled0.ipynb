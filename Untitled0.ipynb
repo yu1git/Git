{
  "nbformat": 4,
  "nbformat_minor": 0,
  "metadata": {
    "colab": {
      "name": "Untitled0.ipynb",
      "provenance": [],
      "authorship_tag": "ABX9TyNDN2y7H6IhKYcxBpIY170v",
      "include_colab_link": true
    },
    "kernelspec": {
      "name": "python3",
      "display_name": "Python 3"
    },
    "language_info": {
      "name": "python"
    }
  },
  "cells": [
    {
      "cell_type": "markdown",
      "metadata": {
        "id": "view-in-github",
        "colab_type": "text"
      },
      "source": [
        "<a href=\"https://colab.research.google.com/github/yu1git/Git/blob/master/Untitled0.ipynb\" target=\"_parent\"><img src=\"https://colab.research.google.com/assets/colab-badge.svg\" alt=\"Open In Colab\"/></a>"
      ]
    },
    {
      "cell_type": "code",
      "metadata": {
        "colab": {
          "base_uri": "https://localhost:8080/"
        },
        "id": "eWprhpDGTRG6",
        "outputId": "b67accd1-4038-44af-a9f6-edf51e18546d"
      },
      "source": [
        "line = input().split()\n",
        "h = int(line[0])\n",
        "w = int(line[1])\n",
        "a = (\"{: >9}\".format(line[2]))\n",
        "b = (\"{: >9}\".format(line[3]))\n",
        "\n",
        "for i in range(h):\n",
        "  for j in range(w):\n",
        "    print(\"(\" + a + \", \" + b + \")\",end = \"\")\n",
        "    # 区切りを出力する\n",
        "    if j < w - 1:\n",
        "      print(\" | \",end = \"\")\n",
        "  print()\n",
        "  # 上下の区切りを出力\n",
        "  if i < h - 1:\n",
        "    num = w * (9 + 9 + 4) + (w - 1) * 3\n",
        "    for n in range(num):\n",
        "      print(\"=\",end = \"\")\n",
        "  print()"
      ],
      "execution_count": 12,
      "outputs": [
        {
          "output_type": "stream",
          "name": "stdout",
          "text": [
            "3 2 4 5\n",
            "(        4,         5) | (        4,         5)\n",
            "===============================================\n",
            "(        4,         5) | (        4,         5)\n",
            "===============================================\n",
            "(        4,         5) | (        4,         5)\n",
            "\n"
          ]
        }
      ]
    }
  ]
}