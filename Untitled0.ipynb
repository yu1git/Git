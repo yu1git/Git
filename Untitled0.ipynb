{
  "nbformat": 4,
  "nbformat_minor": 0,
  "metadata": {
    "colab": {
      "name": "Untitled0.ipynb",
      "provenance": [],
      "authorship_tag": "ABX9TyOYp3pNjjMiKAwwcXPPtffw",
      "include_colab_link": true
    },
    "kernelspec": {
      "name": "python3",
      "display_name": "Python 3"
    },
    "language_info": {
      "name": "python"
    }
  },
  "cells": [
    {
      "cell_type": "markdown",
      "metadata": {
        "id": "view-in-github",
        "colab_type": "text"
      },
      "source": [
        "<a href=\"https://colab.research.google.com/github/yu1git/Git/blob/master/Untitled0.ipynb\" target=\"_parent\"><img src=\"https://colab.research.google.com/assets/colab-badge.svg\" alt=\"Open In Colab\"/></a>"
      ]
    },
    {
      "cell_type": "code",
      "metadata": {
        "id": "MaapD7fPdvOK"
      },
      "source": [
        "# coding: utf-8\n",
        "# 体力\n",
        "H = int(input())\n",
        "# n-2, n-1, n 回目の攻撃力をリストで保持して攻撃力の遷移を記録\n",
        "paiza = [0, 1, 1]\n",
        "monster = [0, 1, 1]\n",
        "# ダメージの累計(すでに2ターン経過済み)\n",
        "dmg = 2\n",
        "# 攻撃される回数(すでに2ターン経過済み)\n",
        "count = 2\n",
        "while dmg < H:\n",
        "    paiza[0] = paiza[1]\n",
        "    paiza[1] = paiza[2]\n",
        "    monster[0] = monster[1]\n",
        "    monster[1] = monster[2]\n",
        "    paiza[2] = monster[0] + monster[1]\n",
        "    monster[2] = paiza[0] + paiza[1] * 2\n",
        "    dmg += monster[2]\n",
        "    count += 1\n",
        "# 何回目の攻撃で体力が0になるか\n",
        "print(count)"
      ],
      "execution_count": null,
      "outputs": []
    }
  ]
}