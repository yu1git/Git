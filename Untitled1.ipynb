{
  "nbformat": 4,
  "nbformat_minor": 0,
  "metadata": {
    "colab": {
      "name": "Untitled1.ipynb",
      "provenance": [],
      "toc_visible": true,
      "include_colab_link": true
    },
    "kernelspec": {
      "name": "python3",
      "display_name": "Python 3"
    },
    "language_info": {
      "name": "python"
    }
  },
  "cells": [
    {
      "cell_type": "markdown",
      "metadata": {
        "id": "view-in-github",
        "colab_type": "text"
      },
      "source": [
        "<a href=\"https://colab.research.google.com/github/yu1git/Git/blob/master/Untitled1.ipynb\" target=\"_parent\"><img src=\"https://colab.research.google.com/assets/colab-badge.svg\" alt=\"Open In Colab\"/></a>"
      ]
    },
    {
      "cell_type": "code",
      "metadata": {
        "id": "lxhkv6QefJIl"
      },
      "source": [
        "# 〇、×のどちらのターンか管理\n",
        "turn = ['〇','×']\n",
        "\n",
        "# 入力を反映\n",
        "row = int(input('行を数字で入力してください'))\n",
        "col = int(input('列を数字で入力してください'))\n",
        "\n",
        "# 初期化\n",
        "def start_board():\n",
        "    board = [['□'] * 3 for i in range(3)]\n",
        "    return board\n",
        "\n",
        "# 盤面を出力\n",
        "def print_board(players):\n",
        "    for i in range(9):\n",
        "        # マスが埋まっているかで振り分け\n",
        "        if (players[0] & (1 << i)) > 0:\n",
        "            print(\"○\", end='')\n",
        "        elif (players[1] & (1 << i)) > 0:\n",
        "            print(\"×\", end='')\n",
        "        else:\n",
        "            print(\"□\", end='')\n",
        "        if i % 3 == 2:\n",
        "            print()\n",
        "    print()\n",
        "\n",
        "# 勝敗判定\n",
        "def check_win(players):\n",
        "    \n",
        "# 引き分け判定\n",
        "def check_draw(players):\n",
        "\n",
        "# \n"
      ],
      "execution_count": null,
      "outputs": []
    }
  ]
}