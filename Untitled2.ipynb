{
  "nbformat": 4,
  "nbformat_minor": 0,
  "metadata": {
    "colab": {
      "name": "Untitled2.ipynb",
      "provenance": [],
      "authorship_tag": "ABX9TyPTZXFjPPwjmmEYInPK8Hve",
      "include_colab_link": true
    },
    "kernelspec": {
      "name": "python3",
      "display_name": "Python 3"
    },
    "language_info": {
      "name": "python"
    }
  },
  "cells": [
    {
      "cell_type": "markdown",
      "metadata": {
        "id": "view-in-github",
        "colab_type": "text"
      },
      "source": [
        "<a href=\"https://colab.research.google.com/github/yu1git/Git/blob/master/Untitled2.ipynb\" target=\"_parent\"><img src=\"https://colab.research.google.com/assets/colab-badge.svg\" alt=\"Open In Colab\"/></a>"
      ]
    },
    {
      "cell_type": "code",
      "metadata": {
        "colab": {
          "base_uri": "https://localhost:8080/"
        },
        "id": "4gAhKlKP4JMc",
        "outputId": "d8d177dd-7b05-4130-8909-25bae578934e"
      },
      "source": [
        "#星座判定\n",
        "def check(mon,day):\n",
        "  #最初と最後を山羊座にする。\n",
        "  limit = [19,18,20,19,20,21,22,22,22,23,22,21,19]\n",
        "  seiza = ['山羊座','水瓶座','魚座','牡羊座','牡牛座','双子座','蟹座','獅子座','乙女座','天秤座','蠍座','射手座','山羊座']\n",
        "  if limit[mon-1] >= day:\n",
        "    return seiza[mon-1]\n",
        "  else:\n",
        "    return seiza[mon]\n",
        "\n",
        "\n",
        "mon = int(input('月'))\n",
        "day = int(input('日'))\n",
        "print(check(mon,day))"
      ],
      "execution_count": 10,
      "outputs": [
        {
          "output_type": "stream",
          "name": "stdout",
          "text": [
            "月1\n",
            "日19\n",
            "山羊座\n"
          ]
        }
      ]
    }
  ]
}