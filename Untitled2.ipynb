{
  "nbformat": 4,
  "nbformat_minor": 0,
  "metadata": {
    "colab": {
      "name": "Untitled2.ipynb",
      "provenance": [],
      "authorship_tag": "ABX9TyNBZwzUdDhiaswN5r+LA0j5",
      "include_colab_link": true
    },
    "kernelspec": {
      "name": "python3",
      "display_name": "Python 3"
    },
    "language_info": {
      "name": "python"
    }
  },
  "cells": [
    {
      "cell_type": "markdown",
      "metadata": {
        "id": "view-in-github",
        "colab_type": "text"
      },
      "source": [
        "<a href=\"https://colab.research.google.com/github/yu1git/Git/blob/master/Untitled2.ipynb\" target=\"_parent\"><img src=\"https://colab.research.google.com/assets/colab-badge.svg\" alt=\"Open In Colab\"/></a>"
      ]
    },
    {
      "cell_type": "code",
      "execution_count": null,
      "metadata": {
        "id": "BhX94eIFTD-_"
      },
      "outputs": [],
      "source": [
        "# coding: utf-8\n",
        "h, w, sy, sx, m = input().split()\n",
        "coord = [int(sy), int(sx)]\n",
        "board = []\n",
        "ans = False\n",
        "for _ in range(int(h)):\n",
        "    line = list(input())\n",
        "    board.append(line)\n",
        "    \n",
        "if m == 'N':\n",
        "    coord[1] = coord[1] - 1\n",
        "elif m == 'S':\n",
        "    coord[1] = coord[1] + 1 \n",
        "elif m == 'E':\n",
        "    coord[0] = coord[0] + 1 \n",
        "elif m == 'W':\n",
        "    coord[0] = coord[0] - 1 \n",
        "if board[coord[0]][coord[1]] == '.' \\\n",
        "and coord[0] < int(h) \\\n",
        "and coord[1] < int(w):\n",
        "    ans = True\n",
        "if ans:\n",
        "    print('Yes')\n",
        "else:\n",
        "    print('No')"
      ]
    }
  ]
}