{
  "nbformat": 4,
  "nbformat_minor": 0,
  "metadata": {
    "colab": {
      "name": "Untitled3.ipynb",
      "provenance": [],
      "authorship_tag": "ABX9TyNuwLBRWofg3j2RqkfIKenr",
      "include_colab_link": true
    },
    "kernelspec": {
      "name": "python3",
      "display_name": "Python 3"
    },
    "language_info": {
      "name": "python"
    }
  },
  "cells": [
    {
      "cell_type": "markdown",
      "metadata": {
        "id": "view-in-github",
        "colab_type": "text"
      },
      "source": [
        "<a href=\"https://colab.research.google.com/github/yu1git/Git/blob/master/Untitled3.ipynb\" target=\"_parent\"><img src=\"https://colab.research.google.com/assets/colab-badge.svg\" alt=\"Open In Colab\"/></a>"
      ]
    },
    {
      "cell_type": "code",
      "execution_count": null,
      "metadata": {
        "id": "sGYYCi7pebxQ"
      },
      "outputs": [],
      "source": [
        "# coding: utf-8\n",
        "h, w, sy, sx, n = map(int, input().split())\n",
        "s = [list(input()) for _ in range(h)]\n",
        "directions = [\"N\", \"E\", \"S\", \"W\"]\n",
        "# カウント変数\n",
        "now = 0\n",
        "s[sy][sx] = \"*\"\n",
        "for _ in range(n):\n",
        "    d_i, l_i = input().split()\n",
        "    l_i = int(l_i)\n",
        "    if d_i == \"L\":\n",
        "        now = (3 + now) % 4\n",
        "    else:\n",
        "        now = (1 + now) % 4\n",
        "    for i in range(l_i):\n",
        "        if directions[now] == \"N\":\n",
        "            sy -= 1\n",
        "        elif directions[now] == \"E\":\n",
        "            sx += 1\n",
        "        elif directions[now] == \"S\":\n",
        "            sy += 1\n",
        "        elif directions[now] == \"W\":\n",
        "            sx -= 1\n",
        "        \n",
        "        s[sy][sx] = \"*\"\n",
        "        if sx < 0 or sx >= int(w) or sy < 0 or sy >= int(h) or s[sy][sx] == \"#\":\n",
        "\t\t# 1 マス戻り break でループを抜けます\n",
        "            if directions[now] == \"N\":\n",
        "                sy += 1\n",
        "            elif directions[now] == \"E\":\n",
        "                sx -= 1\n",
        "            elif directions[now] == \"S\":\n",
        "                sy -= 1\n",
        "            elif directions[now] == \"W\":\n",
        "                sx += 1\n",
        "            break\n",
        "for i in range(h):\n",
        "    for j in range(w):\n",
        "        print(s[i][j],end=\" \")\n",
        "    print()\n",
        "    "
      ]
    }
  ]
}