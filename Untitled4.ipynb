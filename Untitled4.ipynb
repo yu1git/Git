{
  "nbformat": 4,
  "nbformat_minor": 0,
  "metadata": {
    "colab": {
      "name": "Untitled4.ipynb",
      "provenance": [],
      "authorship_tag": "ABX9TyN+4epZ2T4Azg8VtNn9+VuV",
      "include_colab_link": true
    },
    "kernelspec": {
      "name": "python3",
      "display_name": "Python 3"
    },
    "language_info": {
      "name": "python"
    }
  },
  "cells": [
    {
      "cell_type": "markdown",
      "metadata": {
        "id": "view-in-github",
        "colab_type": "text"
      },
      "source": [
        "<a href=\"https://colab.research.google.com/github/yu1git/Git/blob/master/Untitled4.ipynb\" target=\"_parent\"><img src=\"https://colab.research.google.com/assets/colab-badge.svg\" alt=\"Open In Colab\"/></a>"
      ]
    },
    {
      "cell_type": "code",
      "execution_count": null,
      "metadata": {
        "id": "-y7Ob11xn9L4"
      },
      "outputs": [],
      "source": [
        "import copy\n",
        "H, W = map(int, input().split())\n",
        "start = input()\n",
        "turn = \"\"\n",
        "s = [list(input()) for _ in range(H)]\n",
        "A_p = []\n",
        "B_p = []\n",
        "A_n = copy.deepcopy(s)\n",
        "B_n = copy.deepcopy(s)\n",
        "count = 0\n",
        "\n",
        "for y in range(H):\n",
        "    for x in range(W):\n",
        "        if s[y][x] == \"A\":\n",
        "            A_p.append([y, x])\n",
        "            A_n[y][x] = 0\n",
        "        elif s[y][x] == \"B\":\n",
        "            B_p.append([y, x])\n",
        "            B_n[y][x] = 0\n",
        "def do(y,x,p,n,player):\n",
        "    if y > 0 and s[y - 1][x] == \".\":\n",
        "        s[y - 1][x] = player\n",
        "        p.append([y - 1, x])\n",
        "        n[y - 1][x] = n[y][x] + 1\n",
        "        print(y,x,1,player)\n",
        "    if y < H - 1 and s[y + 1][x] == \".\":\n",
        "        s[y + 1][x] = player\n",
        "        p.append([y + 1, x])\n",
        "        n[y + 1][x] =  n[y][x] + 1\n",
        "        print(y,x,2,player)\n",
        "    if x > 0 and s[y][x - 1] == \".\":\n",
        "        s[y][x - 1] = player\n",
        "        p.append([y, x - 1])\n",
        "        n[y][x - 1] =  n[y][x] + 1\n",
        "        print(y,x,3,player)\n",
        "    if x < W - 1 and s[y][x + 1] == \".\":\n",
        "        s[y][x + 1] = player\n",
        "        p.append([y, x + 1])\n",
        "        n[y][x + 1] =  n[y][x] + 1\n",
        "        print(y,x,4,player)\n",
        "        \n",
        "def change(turn,count):\n",
        "    if turn == \"A\":\n",
        "        num = A_n.count(count)\n",
        "        for _ in range(num):\n",
        "            [y,x] = A_p.pop(0)\n",
        "            do(y,x,A_p,A_n,\"A\")\n",
        "            print(1)\n",
        "        turn = \"B\"\n",
        "        count += 1\n",
        "    if turn == \"B\":\n",
        "        num = B_n.count(count)\n",
        "        for _ in range(num):\n",
        "            [y,x] = B_p.pop(0)\n",
        "            do(y,x,B_p,B_n,\"B\")\n",
        "            print(2)\n",
        "        turn = \"A\"\n",
        "        count += 1\n",
        "change(start,count)\n",
        "for i in  s:\n",
        "    for j in i:\n",
        "        if '.' != j:\n",
        "            break\n",
        "        change(turn,count)\n",
        "\n",
        "print(s)\n",
        "print(A_p)\n",
        "print(B_p)\n",
        "print(A_n)\n",
        "print(B_n)\n",
        "for y in range(H):\n",
        "    for x in range(W):\n",
        "        print(A_n[y][x], end=\"\")\n",
        "    print()\n",
        "# Aさんの陣地の数、Bさんの陣地の数を出力\n",
        "# 勝者を出力"
      ]
    }
  ]
}