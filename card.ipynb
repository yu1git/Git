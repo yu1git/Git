{
  "nbformat": 4,
  "nbformat_minor": 0,
  "metadata": {
    "colab": {
      "name": "Untitled1.ipynb",
      "provenance": [],
      "authorship_tag": "ABX9TyPgFvO1wLC1oN114HAG5E8j",
      "include_colab_link": true
    },
    "kernelspec": {
      "name": "python3",
      "display_name": "Python 3"
    },
    "language_info": {
      "name": "python"
    }
  },
  "cells": [
    {
      "cell_type": "markdown",
      "metadata": {
        "id": "view-in-github",
        "colab_type": "text"
      },
      "source": [
        "<a href=\"https://colab.research.google.com/github/yu1git/Git/blob/master/card.ipynb\" target=\"_parent\"><img src=\"https://colab.research.google.com/assets/colab-badge.svg\" alt=\"Open In Colab\"/></a>"
      ]
    },
    {
      "cell_type": "code",
      "execution_count": 3,
      "metadata": {
        "colab": {
          "base_uri": "https://localhost:8080/"
        },
        "id": "U70J9MRJKLAQ",
        "outputId": "bbd8dab6-d4c5-4911-d36c-ccf20705b014"
      },
      "outputs": [
        {
          "output_type": "stream",
          "name": "stdout",
          "text": [
            "プレイヤー1の名前 A\n",
            "プレイヤー2の名前 B\n",
            "戦争を始めます\n",
            "q で終了、それ以外のキーでplay：d\n",
            "A は Ace of diamonds、B は 6 of hearts を引きました\n",
            "このラウンドは A が勝ちました\n",
            "q で終了、それ以外のキーでplay：f\n",
            "A は 2 of diamonds、B は 7 of spades を引きました\n",
            "このラウンドは B が勝ちました\n",
            "q で終了、それ以外のキーでplay：q\n",
            "ゲーム終了、引き分け！ の勝利です！\n"
          ]
        }
      ],
      "source": [
        "\"\"\"\n",
        "カードゲーム「戦争」\n",
        "\"\"\"\n",
        "from random import shuffle\n",
        "\n",
        "class Card:\n",
        "  suits = [\"spades\", \"hearts\", \"diamonds\",\"clubs\"]\n",
        "  \"\"\"インデックスと値が一致するように最初にNoneを持たせる\"\"\"\n",
        "  values = [None, None, \"2\", \"3\", \"4\", \"5\", \"6\", \"7\", \"8\", \"9\", \"10\", \"Jack\", \"Queen\", \"King\", \"Ace\"]\n",
        "  \n",
        "  def __init__(self, v, s):\n",
        "    \"\"\"値もスートも整数値\"\"\"\n",
        "    self.value = v\n",
        "    self.suit = s\n",
        "\n",
        "  def __lt__(self, c2):\n",
        "    if self.value < c2.value:\n",
        "      return True\n",
        "    if self.value == c2.value:\n",
        "      return self.suit < c2.suit\n",
        "    return False\n",
        "    \n",
        "  def __gt__(self, c2):\n",
        "    if self.value > c2.value:\n",
        "      return True\n",
        "    if self.value == c2.value:\n",
        "      return self.suit > c2.suit\n",
        "    return False\n",
        "\n",
        "  def __repr__(self):\n",
        "    v = self.values[self.value] + \" of \" + self.suits[self.suit]\n",
        "    return v\n",
        "\n",
        "\n",
        "\n",
        "class Deck:\n",
        "  def __init__(self):\n",
        "    self.cards = []\n",
        "    for i in range(2, 15):\n",
        "      for j in range(4):\n",
        "        self.cards.append(Card(i, j))\n",
        "    shuffle(self.cards)\n",
        "\n",
        "  def draw(self):\n",
        "    if len(self.cards) == 0:\n",
        "      return\n",
        "    return self.cards.pop()\n",
        "\n",
        "class Player:\n",
        "  def __init__(self, name):\n",
        "    self.wins = 0\n",
        "    self.card = None\n",
        "    self.name = name\n",
        "\n",
        "class Game:\n",
        "  def __init__(self):\n",
        "    name1 = input(\"プレイヤー1の名前 \")\n",
        "    name2 = input(\"プレイヤー2の名前 \")\n",
        "    self.deck = Deck()\n",
        "    self.p1 = Player(name1)\n",
        "    self.p2 = Player(name2)\n",
        "    \n",
        "  def print_winner(self, winner):\n",
        "    w = \"このラウンドは {} が勝ちました\"\n",
        "    print(w.format(winner.name))\n",
        "\n",
        "  def print_draw(self, p1, p2):\n",
        "    d = \"{} は {}、{} は {} を引きました\"\n",
        "    print(d.format(p1.name, p1.card, p2.name, p2.card))\n",
        "\n",
        "  def play_game(self):\n",
        "    cards = self.deck.cards\n",
        "    print(\"戦争を始めます\")\n",
        "    while len(cards) >= 2:\n",
        "      m = \"q で終了、それ以外のキーでplay：\"\n",
        "      response =input(m)\n",
        "      if response == 'q':\n",
        "        break\n",
        "      self.p1.card = self.deck.draw()\n",
        "      self.p2.card = self.deck.draw()\n",
        "      self.print_draw(self.p1, self.p2)\n",
        "      if self.p1.card > self.p2.card:\n",
        "        self.p1.wins += 1\n",
        "        self.print_winner(self.p1)\n",
        "      else:\n",
        "        self.p2.wins += 1\n",
        "        self.print_winner(self.p2)\n",
        "    win = self.winner(self.p1, self.p2)\n",
        "    print(\"ゲーム終了、{} の勝利です！\".format(win))\n",
        "\n",
        "  def winner(self, p1, p2):\n",
        "    if p1.wins > p2.wins:\n",
        "      return p1.name\n",
        "    if p1.wins < p2.wins:\n",
        "      return p2.name\n",
        "    return \"引き分け！\"\n",
        "\n",
        "game = Game()\n",
        "game.play_game()"
      ]
    }
  ]
}